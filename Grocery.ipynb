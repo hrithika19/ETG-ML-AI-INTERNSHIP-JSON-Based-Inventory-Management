{
  "nbformat": 4,
  "nbformat_minor": 0,
  "metadata": {
    "colab": {
      "name": "Untitled0.ipynb",
      "provenance": []
    },
    "kernelspec": {
      "name": "python3",
      "display_name": "Python 3"
    },
    "language_info": {
      "name": "python"
    }
  },
  "cells": [
    {
      "cell_type": "code",
      "metadata": {
        "id": "xXq-Tja6NGQr"
      },
      "source": [
        "import pandas as pd\n",
        "import json"
      ],
      "execution_count": 1,
      "outputs": []
    },
    {
      "cell_type": "code",
      "metadata": {
        "id": "ehnNxYA5OXyB"
      },
      "source": [
        "fd=open(\"record.json\",'r')\n",
        "r=fd.read()\n",
        "fd.close()\n",
        "record=json.loads(r)"
      ],
      "execution_count": 2,
      "outputs": []
    },
    {
      "cell_type": "code",
      "metadata": {
        "colab": {
          "base_uri": "https://localhost:8080/"
        },
        "id": "MPwDCzPDOvMq",
        "outputId": "0db3c62c-5183-4cf4-b9f6-198daca35fd5"
      },
      "source": [
        "record"
      ],
      "execution_count": 3,
      "outputs": [
        {
          "output_type": "execute_result",
          "data": {
            "text/plain": [
              "{'1001': {'name': 'sugar', 'pr': 100, 'qn': 34},\n",
              " '1002': {'name': 'teapowder', 'pr': 800, 'qn': 100},\n",
              " '1003': {'name': 'Dal', 'pr': 85, 'qn': 100},\n",
              " '1004': {'name': 'Moog', 'pr': 5, 'qn': 1000},\n",
              " '1005': {'name': 'wheat', 'pr': 20, 'qn': 100},\n",
              " '1006': {'name': 'paddy', 'pr': 50000, 'qn': 10},\n",
              " '1007': {'name': 'Jowar', 'pr': 1500, 'qn': 110},\n",
              " '1008': {'name': 'Agarbatti', 'pr': 599, 'qn': 5},\n",
              " '1009': {'name': 'rin soap', 'pr': 18, 'qn': 10},\n",
              " '1010': {'name': 'powder', 'pr': 133, 'qn': 9},\n",
              " '1011': {'name': 'pickle', 'pr': 189, 'qn': 7},\n",
              " '1012': {'name': 'brush', 'pr': 139, 'qn': 22},\n",
              " '1013': {'name': 'Flour', 'pr': 1923, 'qn': 120},\n",
              " '1014': {'name': 'Santoor soap', 'pr': 18, 'qn': 110},\n",
              " '1015': {'name': 'Lux soap', 'pr': 169, 'qn': 130},\n",
              " '1016': {'name': 'Neem soap', 'pr': 189, 'qn': 120},\n",
              " '1017': {'name': 'Green dal soap', 'pr': 199, 'qn': 1},\n",
              " '1018': {'name': 'Chilli powder', 'pr': 10, 'qn': 1},\n",
              " '1019': {'name': 'Lays', 'pr': 88, 'qn': 8},\n",
              " '1020': {'name': 'Kukure', 'pr': 889, 'qn': 90},\n",
              " '1021': {'name': 'Chik shampoo', 'pr': 1799, 'qn': 99},\n",
              " '1022': {'name': 'Dove shampoo', 'pr': 1679, 'qn': 10},\n",
              " '1023': {'name': 'Lemon rice powder', 'pr': 1779, 'qn': 9},\n",
              " '1024': {'name': 'Sunsilk', 'pr': 1999, 'qn': 33},\n",
              " '1025': {'name': 'cashew nut', 'pr': 134, 'qn': 5},\n",
              " '1026': {'name': 'badam', 'pr': 132, 'qn': 3},\n",
              " '1027': {'name': 'Pista', 'pr': 134, 'qn': 9},\n",
              " '1028': {'name': 'Pasta', 'pr': 198, 'qn': 3},\n",
              " '1029': {'name': 'soft drinks', 'pr': 197, 'qn': 3},\n",
              " '1030': {'name': 'Chocolate pack', 'pr': 199, 'qn': 1},\n",
              " '1032': {'name': '5-star', 'pr': 5, 'qn': 10}}"
            ]
          },
          "metadata": {},
          "execution_count": 3
        }
      ]
    },
    {
      "cell_type": "code",
      "metadata": {
        "colab": {
          "base_uri": "https://localhost:8080/"
        },
        "id": "xSl1ntBjO_E2",
        "outputId": "e819f328-65d2-4ac1-80ef-087cd797f4cf"
      },
      "source": [
        "prod_id = str(input(\"Enter product id:\"))\n",
        "name = str(input(\"Enter name:\"))\n",
        "pr = int(input(\"Enter price:\"))\n",
        "qn = int(input(\"Enter quantity:\"))\n",
        "\n",
        "record[prod_id] = {'name': name, 'pr': pr, 'qn': qn}\n",
        "\n",
        "js = json.dumps(record)\n",
        "\n",
        "fd = open(\"record.json\",'w')\n",
        "fd.write(js)\n",
        "fd.close()\n",
        "\n",
        "\n",
        "\n"
      ],
      "execution_count": 6,
      "outputs": [
        {
          "name": "stdout",
          "output_type": "stream",
          "text": [
            "Enter product id:1033\n",
            "Enter name:Dairy Milk\n",
            "Enter price:20\n",
            "Enter quantity:10\n"
          ]
        }
      ]
    },
    {
      "cell_type": "code",
      "metadata": {
        "colab": {
          "base_uri": "https://localhost:8080/"
        },
        "id": "FFjm3VEnQj8s",
        "outputId": "2f4d176e-2fc9-4c75-c197-fa5eec82545d"
      },
      "source": [
        "record"
      ],
      "execution_count": 7,
      "outputs": [
        {
          "output_type": "execute_result",
          "data": {
            "text/plain": [
              "{'1001': {'name': 'sugar', 'pr': 100, 'qn': 34},\n",
              " '1002': {'name': 'teapowder', 'pr': 800, 'qn': 100},\n",
              " '1003': {'name': 'Dal', 'pr': 85, 'qn': 100},\n",
              " '1004': {'name': 'Moog', 'pr': 5, 'qn': 1000},\n",
              " '1005': {'name': 'wheat', 'pr': 20, 'qn': 100},\n",
              " '1006': {'name': 'paddy', 'pr': 50000, 'qn': 10},\n",
              " '1007': {'name': 'Jowar', 'pr': 1500, 'qn': 110},\n",
              " '1008': {'name': 'Agarbatti', 'pr': 599, 'qn': 5},\n",
              " '1009': {'name': 'rin soap', 'pr': 18, 'qn': 10},\n",
              " '1010': {'name': 'powder', 'pr': 133, 'qn': 9},\n",
              " '1011': {'name': 'pickle', 'pr': 189, 'qn': 7},\n",
              " '1012': {'name': 'brush', 'pr': 139, 'qn': 22},\n",
              " '1013': {'name': 'Flour', 'pr': 1923, 'qn': 120},\n",
              " '1014': {'name': 'Santoor soap', 'pr': 18, 'qn': 110},\n",
              " '1015': {'name': 'Lux soap', 'pr': 169, 'qn': 130},\n",
              " '1016': {'name': 'Neem soap', 'pr': 189, 'qn': 120},\n",
              " '1017': {'name': 'Green dal soap', 'pr': 199, 'qn': 1},\n",
              " '1018': {'name': 'Chilli powder', 'pr': 10, 'qn': 1},\n",
              " '1019': {'name': 'Lays', 'pr': 88, 'qn': 8},\n",
              " '1020': {'name': 'Kukure', 'pr': 889, 'qn': 90},\n",
              " '1021': {'name': 'Chik shampoo', 'pr': 1799, 'qn': 99},\n",
              " '1022': {'name': 'Dove shampoo', 'pr': 1679, 'qn': 10},\n",
              " '1023': {'name': 'Lemon rice powder', 'pr': 1779, 'qn': 9},\n",
              " '1024': {'name': 'Sunsilk', 'pr': 1999, 'qn': 33},\n",
              " '1025': {'name': 'cashew nut', 'pr': 134, 'qn': 5},\n",
              " '1026': {'name': 'badam', 'pr': 132, 'qn': 3},\n",
              " '1027': {'name': 'Pista', 'pr': 134, 'qn': 9},\n",
              " '1028': {'name': 'Pasta', 'pr': 198, 'qn': 3},\n",
              " '1029': {'name': 'soft drinks', 'pr': 197, 'qn': 3},\n",
              " '1030': {'name': 'Chocolate pack', 'pr': 199, 'qn': 1},\n",
              " '1032': {'name': '5-star', 'pr': 5, 'qn': 10},\n",
              " '1033': {'name': 'Dairy Milk', 'pr': 20, 'qn': 10}}"
            ]
          },
          "metadata": {},
          "execution_count": 7
        }
      ]
    },
    {
      "cell_type": "code",
      "metadata": {
        "colab": {
          "base_uri": "https://localhost:8080/"
        },
        "id": "O1lMXYdzQq7U",
        "outputId": "c235b579-a3db-4071-ef50-5da3eebedc8f"
      },
      "source": [
        "n=input(\"enter what you want to delete\")\n",
        "del record[n]\n"
      ],
      "execution_count": 8,
      "outputs": [
        {
          "name": "stdout",
          "output_type": "stream",
          "text": [
            "enter what you want to delete1033\n"
          ]
        }
      ]
    },
    {
      "cell_type": "code",
      "metadata": {
        "colab": {
          "base_uri": "https://localhost:8080/"
        },
        "id": "PnI5j5VUQw31",
        "outputId": "9a8ef033-2979-4a22-b677-09cae341f296"
      },
      "source": [
        "record"
      ],
      "execution_count": 9,
      "outputs": [
        {
          "output_type": "execute_result",
          "data": {
            "text/plain": [
              "{'1001': {'name': 'sugar', 'pr': 100, 'qn': 34},\n",
              " '1002': {'name': 'teapowder', 'pr': 800, 'qn': 100},\n",
              " '1003': {'name': 'Dal', 'pr': 85, 'qn': 100},\n",
              " '1004': {'name': 'Moog', 'pr': 5, 'qn': 1000},\n",
              " '1005': {'name': 'wheat', 'pr': 20, 'qn': 100},\n",
              " '1006': {'name': 'paddy', 'pr': 50000, 'qn': 10},\n",
              " '1007': {'name': 'Jowar', 'pr': 1500, 'qn': 110},\n",
              " '1008': {'name': 'Agarbatti', 'pr': 599, 'qn': 5},\n",
              " '1009': {'name': 'rin soap', 'pr': 18, 'qn': 10},\n",
              " '1010': {'name': 'powder', 'pr': 133, 'qn': 9},\n",
              " '1011': {'name': 'pickle', 'pr': 189, 'qn': 7},\n",
              " '1012': {'name': 'brush', 'pr': 139, 'qn': 22},\n",
              " '1013': {'name': 'Flour', 'pr': 1923, 'qn': 120},\n",
              " '1014': {'name': 'Santoor soap', 'pr': 18, 'qn': 110},\n",
              " '1015': {'name': 'Lux soap', 'pr': 169, 'qn': 130},\n",
              " '1016': {'name': 'Neem soap', 'pr': 189, 'qn': 120},\n",
              " '1017': {'name': 'Green dal soap', 'pr': 199, 'qn': 1},\n",
              " '1018': {'name': 'Chilli powder', 'pr': 10, 'qn': 1},\n",
              " '1019': {'name': 'Lays', 'pr': 88, 'qn': 8},\n",
              " '1020': {'name': 'Kukure', 'pr': 889, 'qn': 90},\n",
              " '1021': {'name': 'Chik shampoo', 'pr': 1799, 'qn': 99},\n",
              " '1022': {'name': 'Dove shampoo', 'pr': 1679, 'qn': 10},\n",
              " '1023': {'name': 'Lemon rice powder', 'pr': 1779, 'qn': 9},\n",
              " '1024': {'name': 'Sunsilk', 'pr': 1999, 'qn': 33},\n",
              " '1025': {'name': 'cashew nut', 'pr': 134, 'qn': 5},\n",
              " '1026': {'name': 'badam', 'pr': 132, 'qn': 3},\n",
              " '1027': {'name': 'Pista', 'pr': 134, 'qn': 9},\n",
              " '1028': {'name': 'Pasta', 'pr': 198, 'qn': 3},\n",
              " '1029': {'name': 'soft drinks', 'pr': 197, 'qn': 3},\n",
              " '1030': {'name': 'Chocolate pack', 'pr': 199, 'qn': 1},\n",
              " '1032': {'name': '5-star', 'pr': 5, 'qn': 10}}"
            ]
          },
          "metadata": {},
          "execution_count": 9
        }
      ]
    },
    {
      "cell_type": "code",
      "metadata": {
        "colab": {
          "base_uri": "https://localhost:8080/"
        },
        "id": "0Vkhg5QTQzal",
        "outputId": "2df338b1-ff95-4f68-cd20-44b52894cd9d"
      },
      "source": [
        "#purchase\n",
        "ui_prod=str(input(\"enter product id\"))\n",
        "ui_quant=int(input(\"enter the quantity\"))\n",
        "print(\"Product\",record[ui_prod]['name'])\n",
        "print(\"Price:\", record[ui_prod]['pr'])\n",
        "print(\"Billing Amount: \", record[ui_prod]['pr']*ui_quant)\n",
        "\n",
        "record[ui_prod]['qn']= record[ui_prod]['qn'] - ui_quant"
      ],
      "execution_count": 13,
      "outputs": [
        {
          "output_type": "stream",
          "name": "stdout",
          "text": [
            "enter product id1002\n",
            "enter the quantity16\n",
            "Product teapowder\n",
            "Price: 800\n",
            "Billing Amount:  12800\n"
          ]
        }
      ]
    },
    {
      "cell_type": "code",
      "metadata": {
        "id": "Qb7bpCWLRLId"
      },
      "source": [
        "record[ui_prod]['qn'] = record[ui_prod]['qn'] - ui_quant"
      ],
      "execution_count": 14,
      "outputs": []
    },
    {
      "cell_type": "code",
      "metadata": {
        "colab": {
          "base_uri": "https://localhost:8080/"
        },
        "id": "WEPs7px9RRUq",
        "outputId": "ebdd47c1-29e1-4d37-a268-9944cea015f9"
      },
      "source": [
        "record"
      ],
      "execution_count": 15,
      "outputs": [
        {
          "output_type": "execute_result",
          "data": {
            "text/plain": [
              "{'1001': {'name': 'sugar', 'pr': 100, 'qn': 34},\n",
              " '1002': {'name': 'teapowder', 'pr': 800, 'qn': 48},\n",
              " '1003': {'name': 'Dal', 'pr': 85, 'qn': 100},\n",
              " '1004': {'name': 'Moog', 'pr': 5, 'qn': 1000},\n",
              " '1005': {'name': 'wheat', 'pr': 20, 'qn': 100},\n",
              " '1006': {'name': 'paddy', 'pr': 50000, 'qn': 10},\n",
              " '1007': {'name': 'Jowar', 'pr': 1500, 'qn': 110},\n",
              " '1008': {'name': 'Agarbatti', 'pr': 599, 'qn': 5},\n",
              " '1009': {'name': 'rin soap', 'pr': 18, 'qn': 10},\n",
              " '1010': {'name': 'powder', 'pr': 133, 'qn': 9},\n",
              " '1011': {'name': 'pickle', 'pr': 189, 'qn': 7},\n",
              " '1012': {'name': 'brush', 'pr': 139, 'qn': 22},\n",
              " '1013': {'name': 'Flour', 'pr': 1923, 'qn': 120},\n",
              " '1014': {'name': 'Santoor soap', 'pr': 18, 'qn': 110},\n",
              " '1015': {'name': 'Lux soap', 'pr': 169, 'qn': 130},\n",
              " '1016': {'name': 'Neem soap', 'pr': 189, 'qn': 120},\n",
              " '1017': {'name': 'Green dal soap', 'pr': 199, 'qn': 1},\n",
              " '1018': {'name': 'Chilli powder', 'pr': 10, 'qn': 1},\n",
              " '1019': {'name': 'Lays', 'pr': 88, 'qn': 8},\n",
              " '1020': {'name': 'Kukure', 'pr': 889, 'qn': 90},\n",
              " '1021': {'name': 'Chik shampoo', 'pr': 1799, 'qn': 99},\n",
              " '1022': {'name': 'Dove shampoo', 'pr': 1679, 'qn': 10},\n",
              " '1023': {'name': 'Lemon rice powder', 'pr': 1779, 'qn': 9},\n",
              " '1024': {'name': 'Sunsilk', 'pr': 1999, 'qn': 33},\n",
              " '1025': {'name': 'cashew nut', 'pr': 134, 'qn': 5},\n",
              " '1026': {'name': 'badam', 'pr': 132, 'qn': 3},\n",
              " '1027': {'name': 'Pista', 'pr': 134, 'qn': 9},\n",
              " '1028': {'name': 'Pasta', 'pr': 198, 'qn': 3},\n",
              " '1029': {'name': 'soft drinks', 'pr': 197, 'qn': 3},\n",
              " '1030': {'name': 'Chocolate pack', 'pr': 199, 'qn': 1},\n",
              " '1032': {'name': '5-star', 'pr': 5, 'qn': 10}}"
            ]
          },
          "metadata": {},
          "execution_count": 15
        }
      ]
    },
    {
      "cell_type": "code",
      "metadata": {
        "id": "xesu9BaERp4x"
      },
      "source": [
        "#update inventory after purchase"
      ],
      "execution_count": 16,
      "outputs": []
    },
    {
      "cell_type": "code",
      "metadata": {
        "colab": {
          "base_uri": "https://localhost:8080/"
        },
        "id": "bk71cUqjR4q3",
        "outputId": "d404023c-ecc5-40cc-c9ee-74525ac40f24"
      },
      "source": [
        "js= json.dumps(record)\n",
        "fd= open(\"record.json\",'w')\n",
        "fd.write(js)\n",
        "fd.close"
      ],
      "execution_count": 17,
      "outputs": [
        {
          "output_type": "execute_result",
          "data": {
            "text/plain": [
              "<function TextIOWrapper.close>"
            ]
          },
          "metadata": {},
          "execution_count": 17
        }
      ]
    },
    {
      "cell_type": "code",
      "metadata": {
        "colab": {
          "base_uri": "https://localhost:8080/"
        },
        "id": "BovguSi1STmF",
        "outputId": "4fbe9622-bae0-4c5c-dd41-ec66b89715a4"
      },
      "source": [
        "{'prod':ui_prod, 'qn':ui_quant,'amount':record[ui_prod]['pr']*ui_quant}"
      ],
      "execution_count": 18,
      "outputs": [
        {
          "output_type": "execute_result",
          "data": {
            "text/plain": [
              "{'amount': 12800, 'prod': '1002', 'qn': 16}"
            ]
          },
          "metadata": {},
          "execution_count": 18
        }
      ]
    },
    {
      "cell_type": "code",
      "metadata": {
        "id": "AaVuxpmjSYOz"
      },
      "source": [
        "sales={1:{'prod':ui_prod,'qn': ui_quant, 'amount':record[ui_prod]['pr']*ui_quant},\n",
        "       2:{'prod':ui_prod, 'qn': ui_quant, 'amount':record[ui_prod]['pr']*ui_quant},\n",
        "       3:{'prod':ui_prod, 'qn': ui_quant, 'amount':record[ui_prod]['pr']*ui_quant}}"
      ],
      "execution_count": 19,
      "outputs": []
    },
    {
      "cell_type": "code",
      "metadata": {
        "id": "NJMiT14YSd4y"
      },
      "source": [
        "sales=json.dumps(sales)"
      ],
      "execution_count": 22,
      "outputs": []
    },
    {
      "cell_type": "code",
      "metadata": {
        "id": "0GL_RM2ySgy8"
      },
      "source": [
        "fd=open(\"sales.json\",'r')\n",
        "r=fd.read()\n",
        "fd.close()"
      ],
      "execution_count": 24,
      "outputs": []
    },
    {
      "cell_type": "code",
      "metadata": {
        "colab": {
          "base_uri": "https://localhost:8080/"
        },
        "id": "PeeuDaOKTUPw",
        "outputId": "e644bff5-097a-4d9f-f45a-00e5497d9d2a"
      },
      "source": [
        "{(len(sales)+1):{'prod':ui_prod,'qn': ui_quant, 'amount':record[ui_prod]['pr']*ui_quant}}"
      ],
      "execution_count": 25,
      "outputs": [
        {
          "output_type": "execute_result",
          "data": {
            "text/plain": [
              "{151: {'amount': 12800, 'prod': '1002', 'qn': 16}}"
            ]
          },
          "metadata": {},
          "execution_count": 25
        }
      ]
    },
    {
      "cell_type": "code",
      "metadata": {
        "colab": {
          "base_uri": "https://localhost:8080/",
          "height": 52
        },
        "id": "JTa9vq8RTYDT",
        "outputId": "0d83a05d-8600-4c04-b6d9-d740af92a5af"
      },
      "source": [
        "sales"
      ],
      "execution_count": 26,
      "outputs": [
        {
          "output_type": "execute_result",
          "data": {
            "application/vnd.google.colaboratory.intrinsic+json": {
              "type": "string"
            },
            "text/plain": [
              "'{\"1\": {\"prod\": \"1002\", \"qn\": 16, \"amount\": 12800}, \"2\": {\"prod\": \"1002\", \"qn\": 16, \"amount\": 12800}, \"3\": {\"prod\": \"1002\", \"qn\": 16, \"amount\": 12800}}'"
            ]
          },
          "metadata": {},
          "execution_count": 26
        }
      ]
    }
  ]
}